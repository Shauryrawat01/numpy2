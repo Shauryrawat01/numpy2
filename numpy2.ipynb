{
 "cells": [
  {
   "cell_type": "code",
   "execution_count": 1,
   "id": "820dafaf-b19f-477f-b5e9-1c7482b11d87",
   "metadata": {},
   "outputs": [],
   "source": [
    "#numpy Array manipulation."
   ]
  },
  {
   "cell_type": "code",
   "execution_count": 2,
   "id": "45fb45e7-63a2-454d-94f4-48b683220703",
   "metadata": {},
   "outputs": [],
   "source": [
    "import numpy as np"
   ]
  },
  {
   "cell_type": "code",
   "execution_count": 5,
   "id": "f0c5842d-085b-49f2-ae98-84e9b5ad2845",
   "metadata": {},
   "outputs": [],
   "source": [
    "arr= np.random.randint(1,10,(3,4))"
   ]
  },
  {
   "cell_type": "code",
   "execution_count": 6,
   "id": "ddc0ba83-17f9-45e9-a602-dd58d50e869c",
   "metadata": {},
   "outputs": [
    {
     "data": {
      "text/plain": [
       "array([[3, 6, 1, 2],\n",
       "       [6, 1, 5, 4],\n",
       "       [1, 4, 3, 9]])"
      ]
     },
     "execution_count": 6,
     "metadata": {},
     "output_type": "execute_result"
    }
   ],
   "source": [
    "arr"
   ]
  },
  {
   "cell_type": "code",
   "execution_count": 8,
   "id": "e3089f66-583d-4b02-96fe-6458ba9348bf",
   "metadata": {},
   "outputs": [
    {
     "data": {
      "text/plain": [
       "array([[3, 6, 1, 2, 6, 1],\n",
       "       [5, 4, 1, 4, 3, 9]])"
      ]
     },
     "execution_count": 8,
     "metadata": {},
     "output_type": "execute_result"
    }
   ],
   "source": [
    "arr.reshape(2,6)"
   ]
  },
  {
   "cell_type": "code",
   "execution_count": 10,
   "id": "226afe67-991d-4ca6-93b9-b02bdfeee33d",
   "metadata": {},
   "outputs": [
    {
     "data": {
      "text/plain": [
       "array([[3, 6, 1, 2, 6, 1],\n",
       "       [5, 4, 1, 4, 3, 9]])"
      ]
     },
     "execution_count": 10,
     "metadata": {},
     "output_type": "execute_result"
    }
   ],
   "source": [
    "arr.reshape(2,-256325)  #it auto matically uderstand about second dimensional"
   ]
  },
  {
   "cell_type": "code",
   "execution_count": 11,
   "id": "b746d45a-185a-430f-bbea-04cd64aeea1a",
   "metadata": {},
   "outputs": [
    {
     "data": {
      "text/plain": [
       "array([[3, 6, 1],\n",
       "       [6, 1, 4],\n",
       "       [1, 5, 3],\n",
       "       [2, 4, 9]])"
      ]
     },
     "execution_count": 11,
     "metadata": {},
     "output_type": "execute_result"
    }
   ],
   "source": [
    "arr.T"
   ]
  },
  {
   "cell_type": "code",
   "execution_count": 12,
   "id": "54e1915c-a598-47c8-8e1a-84b259d60788",
   "metadata": {},
   "outputs": [
    {
     "data": {
      "text/plain": [
       "array([[3, 6, 1, 2],\n",
       "       [6, 1, 5, 4],\n",
       "       [1, 4, 3, 9]])"
      ]
     },
     "execution_count": 12,
     "metadata": {},
     "output_type": "execute_result"
    }
   ],
   "source": [
    "arr"
   ]
  },
  {
   "cell_type": "code",
   "execution_count": 13,
   "id": "b7fee444-7a51-4040-90fb-5dc477a751a1",
   "metadata": {},
   "outputs": [
    {
     "data": {
      "text/plain": [
       "array([3, 6, 1, 2, 6, 1, 5, 4, 1, 4, 3, 9])"
      ]
     },
     "execution_count": 13,
     "metadata": {},
     "output_type": "execute_result"
    }
   ],
   "source": [
    "arr.flatten()"
   ]
  },
  {
   "cell_type": "code",
   "execution_count": 14,
   "id": "d51f6044-dfc6-45c7-93bc-80ec3390d556",
   "metadata": {},
   "outputs": [],
   "source": [
    "arr1=np.array([1,2,3,4,5,5])"
   ]
  },
  {
   "cell_type": "code",
   "execution_count": 15,
   "id": "baef2e2f-5f34-4c8f-8c7a-1ad185950ff7",
   "metadata": {},
   "outputs": [
    {
     "data": {
      "text/plain": [
       "array([1, 2, 3, 4, 5, 5])"
      ]
     },
     "execution_count": 15,
     "metadata": {},
     "output_type": "execute_result"
    }
   ],
   "source": [
    "arr1"
   ]
  },
  {
   "cell_type": "code",
   "execution_count": 16,
   "id": "0aa8ec1b-6240-4172-95fe-1d62f12447c8",
   "metadata": {},
   "outputs": [
    {
     "data": {
      "text/plain": [
       "1"
      ]
     },
     "execution_count": 16,
     "metadata": {},
     "output_type": "execute_result"
    }
   ],
   "source": [
    "arr1.ndim"
   ]
  },
  {
   "cell_type": "code",
   "execution_count": 17,
   "id": "a8cd7555-9485-47fc-978d-3cc8ffc03e5d",
   "metadata": {},
   "outputs": [
    {
     "data": {
      "text/plain": [
       "array([[1],\n",
       "       [2],\n",
       "       [3],\n",
       "       [4],\n",
       "       [5],\n",
       "       [5]])"
      ]
     },
     "execution_count": 17,
     "metadata": {},
     "output_type": "execute_result"
    }
   ],
   "source": [
    "np.expand_dims(arr1,axis=1)"
   ]
  },
  {
   "cell_type": "code",
   "execution_count": 18,
   "id": "b1e3043c-f18c-4323-a373-6472b4fb51da",
   "metadata": {},
   "outputs": [
    {
     "data": {
      "text/plain": [
       "array([[3, 6, 1, 2],\n",
       "       [6, 1, 5, 4],\n",
       "       [1, 4, 3, 9]])"
      ]
     },
     "execution_count": 18,
     "metadata": {},
     "output_type": "execute_result"
    }
   ],
   "source": [
    "arr"
   ]
  },
  {
   "cell_type": "code",
   "execution_count": 19,
   "id": "a0380c55-52d5-4ff4-be38-233f2691b762",
   "metadata": {},
   "outputs": [
    {
     "data": {
      "text/plain": [
       "array([[3, 6, 1, 2],\n",
       "       [6, 1, 5, 4],\n",
       "       [1, 4, 3, 9]])"
      ]
     },
     "execution_count": 19,
     "metadata": {},
     "output_type": "execute_result"
    }
   ],
   "source": [
    "np.squeeze(arr)"
   ]
  },
  {
   "cell_type": "code",
   "execution_count": 22,
   "id": "1aa22830-b3b7-4599-9b20-db6d97e99e67",
   "metadata": {},
   "outputs": [],
   "source": [
    "data = np.array([[1],[2],[3]])"
   ]
  },
  {
   "cell_type": "code",
   "execution_count": 23,
   "id": "33abbc4b-9d91-4d23-9a20-cef6d29ee542",
   "metadata": {},
   "outputs": [
    {
     "data": {
      "text/plain": [
       "array([[1],\n",
       "       [2],\n",
       "       [3]])"
      ]
     },
     "execution_count": 23,
     "metadata": {},
     "output_type": "execute_result"
    }
   ],
   "source": [
    "data"
   ]
  },
  {
   "cell_type": "code",
   "execution_count": 24,
   "id": "16469c3b-7528-4237-b032-7901873209f2",
   "metadata": {},
   "outputs": [
    {
     "data": {
      "text/plain": [
       "array([1, 2, 3])"
      ]
     },
     "execution_count": 24,
     "metadata": {},
     "output_type": "execute_result"
    }
   ],
   "source": [
    "np.squeeze(data)"
   ]
  },
  {
   "cell_type": "code",
   "execution_count": 25,
   "id": "e140bf33-ca30-44db-9370-53fb1c330356",
   "metadata": {},
   "outputs": [
    {
     "data": {
      "text/plain": [
       "array([1, 2, 3, 4, 5, 5])"
      ]
     },
     "execution_count": 25,
     "metadata": {},
     "output_type": "execute_result"
    }
   ],
   "source": [
    "arr1"
   ]
  },
  {
   "cell_type": "code",
   "execution_count": 27,
   "id": "15fb248f-c20f-4487-b3a7-750b640df252",
   "metadata": {},
   "outputs": [
    {
     "data": {
      "text/plain": [
       "array([1, 1, 1, 2, 2, 2, 3, 3, 3, 4, 4, 4, 5, 5, 5, 5, 5, 5])"
      ]
     },
     "execution_count": 27,
     "metadata": {},
     "output_type": "execute_result"
    }
   ],
   "source": [
    "np.repeat(arr1,3)  #for repeat the elemnet in array"
   ]
  },
  {
   "cell_type": "code",
   "execution_count": 28,
   "id": "f3c47d8d-5675-4245-bf31-c2564df49ddc",
   "metadata": {},
   "outputs": [
    {
     "data": {
      "text/plain": [
       "array([5, 5, 1, 2, 3, 4])"
      ]
     },
     "execution_count": 28,
     "metadata": {},
     "output_type": "execute_result"
    }
   ],
   "source": [
    "np.roll(arr1,2)"
   ]
  },
  {
   "cell_type": "code",
   "execution_count": 29,
   "id": "9fedf242-6801-43b3-a704-8340281651c3",
   "metadata": {},
   "outputs": [
    {
     "data": {
      "text/plain": [
       "array([1, 2, 3, 4, 5, 5])"
      ]
     },
     "execution_count": 29,
     "metadata": {},
     "output_type": "execute_result"
    }
   ],
   "source": [
    "arr1"
   ]
  },
  {
   "cell_type": "code",
   "execution_count": 31,
   "id": "43c0d75c-e449-4a4e-8672-1d2aaf23f10e",
   "metadata": {},
   "outputs": [
    {
     "data": {
      "text/plain": [
       "array([[1, 0, 0, 0, 0, 0],\n",
       "       [0, 2, 0, 0, 0, 0],\n",
       "       [0, 0, 3, 0, 0, 0],\n",
       "       [0, 0, 0, 4, 0, 0],\n",
       "       [0, 0, 0, 0, 5, 0],\n",
       "       [0, 0, 0, 0, 0, 5]])"
      ]
     },
     "execution_count": 31,
     "metadata": {},
     "output_type": "execute_result"
    }
   ],
   "source": [
    "np.diag(arr1) #for making diagonal"
   ]
  },
  {
   "cell_type": "code",
   "execution_count": 32,
   "id": "35a9279d-081b-4854-983f-96542d541357",
   "metadata": {},
   "outputs": [],
   "source": [
    "#binary opeation in numpy"
   ]
  },
  {
   "cell_type": "code",
   "execution_count": 40,
   "id": "59ba9000-b578-4598-8b05-f00a621d6a59",
   "metadata": {},
   "outputs": [],
   "source": [
    "arr1=np.random.randint(1,50,(3,3))"
   ]
  },
  {
   "cell_type": "code",
   "execution_count": 41,
   "id": "eb9cc286-44a3-4570-bccd-c3ee101be27a",
   "metadata": {},
   "outputs": [
    {
     "data": {
      "text/plain": [
       "array([[12,  9, 25],\n",
       "       [25, 24,  8],\n",
       "       [18, 26, 40]])"
      ]
     },
     "execution_count": 41,
     "metadata": {},
     "output_type": "execute_result"
    }
   ],
   "source": [
    "arr1"
   ]
  },
  {
   "cell_type": "code",
   "execution_count": 42,
   "id": "7705800e-b44f-4ae5-84b7-a9b44c3930ab",
   "metadata": {},
   "outputs": [],
   "source": [
    "arr2=np.random.randint(1,50,(3,3))"
   ]
  },
  {
   "cell_type": "code",
   "execution_count": 43,
   "id": "a6324375-a279-4da6-8028-f8bc5644c385",
   "metadata": {},
   "outputs": [
    {
     "data": {
      "text/plain": [
       "array([[31, 14, 45],\n",
       "       [20, 44, 17],\n",
       "       [25, 13,  7]])"
      ]
     },
     "execution_count": 43,
     "metadata": {},
     "output_type": "execute_result"
    }
   ],
   "source": [
    "arr2"
   ]
  },
  {
   "cell_type": "code",
   "execution_count": 44,
   "id": "92762d42-a7f7-4edb-bcd7-c9529b772926",
   "metadata": {},
   "outputs": [
    {
     "data": {
      "text/plain": [
       "array([[43, 23, 70],\n",
       "       [45, 68, 25],\n",
       "       [43, 39, 47]])"
      ]
     },
     "execution_count": 44,
     "metadata": {},
     "output_type": "execute_result"
    }
   ],
   "source": [
    "arr1+arr2"
   ]
  },
  {
   "cell_type": "code",
   "execution_count": 45,
   "id": "3f1733c2-dd1d-4a5a-b859-c21533fac56b",
   "metadata": {},
   "outputs": [
    {
     "data": {
      "text/plain": [
       "array([[1177,  889,  868],\n",
       "       [1455, 1510, 1589],\n",
       "       [2078, 1916, 1532]])"
      ]
     },
     "execution_count": 45,
     "metadata": {},
     "output_type": "execute_result"
    }
   ],
   "source": [
    "arr1@arr2"
   ]
  },
  {
   "cell_type": "code",
   "execution_count": 46,
   "id": "cde57b1c-749f-4c0f-a3bb-b38ee8fc6588",
   "metadata": {},
   "outputs": [
    {
     "data": {
      "text/plain": [
       "array([[ 372,  126, 1125],\n",
       "       [ 500, 1056,  136],\n",
       "       [ 450,  338,  280]])"
      ]
     },
     "execution_count": 46,
     "metadata": {},
     "output_type": "execute_result"
    }
   ],
   "source": [
    "arr1*arr2"
   ]
  },
  {
   "cell_type": "code",
   "execution_count": 47,
   "id": "3dab6e0b-fa21-4711-9509-14ea029d51e3",
   "metadata": {},
   "outputs": [
    {
     "data": {
      "text/plain": [
       "array([[0.38709677, 0.64285714, 0.55555556],\n",
       "       [1.25      , 0.54545455, 0.47058824],\n",
       "       [0.72      , 2.        , 5.71428571]])"
      ]
     },
     "execution_count": 47,
     "metadata": {},
     "output_type": "execute_result"
    }
   ],
   "source": [
    "arr1/arr2"
   ]
  },
  {
   "cell_type": "code",
   "execution_count": 48,
   "id": "bef251e0-7aff-4ebe-956b-3b7875575385",
   "metadata": {},
   "outputs": [
    {
     "data": {
      "text/plain": [
       "array([[-19,  -5, -20],\n",
       "       [  5, -20,  -9],\n",
       "       [ -7,  13,  33]])"
      ]
     },
     "execution_count": 48,
     "metadata": {},
     "output_type": "execute_result"
    }
   ],
   "source": [
    "arr1-arr2"
   ]
  },
  {
   "cell_type": "code",
   "execution_count": 50,
   "id": "6c9a48a3-555a-4d9b-8db7-18735be99b30",
   "metadata": {},
   "outputs": [
    {
     "data": {
      "text/plain": [
       "array([[12,  9, 25],\n",
       "       [ 5, 24,  8],\n",
       "       [18,  0,  5]])"
      ]
     },
     "execution_count": 50,
     "metadata": {},
     "output_type": "execute_result"
    }
   ],
   "source": [
    "arr1%arr2"
   ]
  },
  {
   "cell_type": "code",
   "execution_count": 51,
   "id": "f88a6852-93d2-45a0-b94c-1429181f8e94",
   "metadata": {},
   "outputs": [
    {
     "data": {
      "text/plain": [
       "array([[          0,  1796636465,  1895799737],\n",
       "       [-1413876383,           0,           0],\n",
       "       [-1845493760,  2025824256,   631242752]])"
      ]
     },
     "execution_count": 51,
     "metadata": {},
     "output_type": "execute_result"
    }
   ],
   "source": [
    "arr1 ** arr2"
   ]
  },
  {
   "cell_type": "code",
   "execution_count": 53,
   "id": "29da8b27-e625-49c3-8922-49f7b20a0f69",
   "metadata": {},
   "outputs": [
    {
     "data": {
      "text/plain": [
       "array([[12,  8,  9],\n",
       "       [16,  8,  0],\n",
       "       [16,  8,  0]])"
      ]
     },
     "execution_count": 53,
     "metadata": {},
     "output_type": "execute_result"
    }
   ],
   "source": [
    "arr1 & arr2  #we are ding and operation"
   ]
  },
  {
   "cell_type": "code",
   "execution_count": 56,
   "id": "58c6d745-5336-4a7b-a7aa-c1258441cd23",
   "metadata": {},
   "outputs": [
    {
     "data": {
      "text/plain": [
       "array([[-13, -10, -26],\n",
       "       [-26, -25,  -9],\n",
       "       [-19, -27, -41]])"
      ]
     },
     "execution_count": 56,
     "metadata": {},
     "output_type": "execute_result"
    }
   ],
   "source": [
    "~arr1  #neative operation"
   ]
  },
  {
   "cell_type": "code",
   "execution_count": 57,
   "id": "8422e952-553b-4d1e-ac30-4c4fa718f98b",
   "metadata": {},
   "outputs": [
    {
     "data": {
      "text/plain": [
       "array([[12,  9, 25],\n",
       "       [25, 24,  8],\n",
       "       [18, 26, 40]])"
      ]
     },
     "execution_count": 57,
     "metadata": {},
     "output_type": "execute_result"
    }
   ],
   "source": [
    "arr1"
   ]
  },
  {
   "cell_type": "code",
   "execution_count": 60,
   "id": "b4ea863d-233b-4066-a3b4-27c576036118",
   "metadata": {},
   "outputs": [
    {
     "data": {
      "text/plain": [
       "array([[31, 15, 61],\n",
       "       [29, 60, 25],\n",
       "       [27, 31, 47]])"
      ]
     },
     "execution_count": 60,
     "metadata": {},
     "output_type": "execute_result"
    }
   ],
   "source": [
    "arr1|arr2  #or opeation "
   ]
  },
  {
   "cell_type": "code",
   "execution_count": 61,
   "id": "f0f33920-815f-4c8a-824f-312aae42e3e1",
   "metadata": {},
   "outputs": [
    {
     "data": {
      "text/plain": [
       "array([[False, False, False],\n",
       "       [ True, False, False],\n",
       "       [False,  True,  True]])"
      ]
     },
     "execution_count": 61,
     "metadata": {},
     "output_type": "execute_result"
    }
   ],
   "source": [
    "arr1>arr2"
   ]
  },
  {
   "cell_type": "code",
   "execution_count": 62,
   "id": "33240ef3-7f05-42cb-b5a9-4e59e2b0e53a",
   "metadata": {},
   "outputs": [],
   "source": [
    "#String function in numpy"
   ]
  },
  {
   "cell_type": "code",
   "execution_count": 63,
   "id": "81103bd0-1c69-4eea-941f-671ddc16ce00",
   "metadata": {},
   "outputs": [],
   "source": [
    "arr=np.array(['shaury' ,'rawat'])"
   ]
  },
  {
   "cell_type": "code",
   "execution_count": 64,
   "id": "bbc0f353-afe7-425e-9ea2-8e810d3f3b78",
   "metadata": {},
   "outputs": [
    {
     "data": {
      "text/plain": [
       "array(['SHAURY', 'RAWAT'], dtype='<U6')"
      ]
     },
     "execution_count": 64,
     "metadata": {},
     "output_type": "execute_result"
    }
   ],
   "source": [
    "np.char.upper(arr)  #this is convert into upper case using numpy"
   ]
  },
  {
   "cell_type": "code",
   "execution_count": 66,
   "id": "6c97d8bb-982e-42da-adfa-fb11a02ecede",
   "metadata": {},
   "outputs": [
    {
     "data": {
      "text/plain": [
       "array(['Shaury', 'Rawat'], dtype='<U6')"
      ]
     },
     "execution_count": 66,
     "metadata": {},
     "output_type": "execute_result"
    }
   ],
   "source": [
    "np.char.title(arr)#convert title into upper case"
   ]
  },
  {
   "cell_type": "code",
   "execution_count": 67,
   "id": "e05dc6ee-1e79-4b20-acbd-5eb2c6cba0af",
   "metadata": {},
   "outputs": [
    {
     "data": {
      "text/plain": [
       "array(['Shaury', 'Rawat'], dtype='<U6')"
      ]
     },
     "execution_count": 67,
     "metadata": {},
     "output_type": "execute_result"
    }
   ],
   "source": [
    "np.char.capitalize(arr)"
   ]
  },
  {
   "cell_type": "code",
   "execution_count": 68,
   "id": "7faa053e-14b8-43eb-a570-16c1e153ab55",
   "metadata": {},
   "outputs": [],
   "source": [
    "#mathmatical function in numy"
   ]
  },
  {
   "cell_type": "code",
   "execution_count": 69,
   "id": "0af9e86e-58ec-4a55-8016-e9b2cfa25e27",
   "metadata": {},
   "outputs": [
    {
     "data": {
      "text/plain": [
       "array([[12,  9, 25],\n",
       "       [25, 24,  8],\n",
       "       [18, 26, 40]])"
      ]
     },
     "execution_count": 69,
     "metadata": {},
     "output_type": "execute_result"
    }
   ],
   "source": [
    "arr1"
   ]
  },
  {
   "cell_type": "code",
   "execution_count": 70,
   "id": "1bd1c116-2dbc-4876-9d9d-31ba7f1efc70",
   "metadata": {},
   "outputs": [
    {
     "data": {
      "text/plain": [
       "array([[-0.53657292,  0.41211849, -0.13235175],\n",
       "       [-0.13235175, -0.90557836,  0.98935825],\n",
       "       [-0.75098725,  0.76255845,  0.74511316]])"
      ]
     },
     "execution_count": 70,
     "metadata": {},
     "output_type": "execute_result"
    }
   ],
   "source": [
    "np.sin(arr1)"
   ]
  },
  {
   "cell_type": "code",
   "execution_count": 71,
   "id": "4fa5306c-3d04-47ff-b274-eb74765c1c21",
   "metadata": {},
   "outputs": [
    {
     "data": {
      "text/plain": [
       "array([[ 0.84385396, -0.91113026,  0.99120281],\n",
       "       [ 0.99120281,  0.42417901, -0.14550003],\n",
       "       [ 0.66031671,  0.64691932, -0.66693806]])"
      ]
     },
     "execution_count": 71,
     "metadata": {},
     "output_type": "execute_result"
    }
   ],
   "source": [
    "np.cos(arr1)"
   ]
  },
  {
   "cell_type": "code",
   "execution_count": 74,
   "id": "146d3cff-cb9a-4153-b289-9866d39865c5",
   "metadata": {},
   "outputs": [
    {
     "data": {
      "text/plain": [
       "array([[-0.63585993, -0.45231566, -0.13352641],\n",
       "       [-0.13352641, -2.1348967 , -6.79971146],\n",
       "       [-1.13731371,  1.17875355, -1.11721493]])"
      ]
     },
     "execution_count": 74,
     "metadata": {},
     "output_type": "execute_result"
    }
   ],
   "source": [
    "np.tan(arr1)"
   ]
  },
  {
   "cell_type": "code",
   "execution_count": 75,
   "id": "49bee0db-712d-4c7c-a2ab-25ced92cec78",
   "metadata": {},
   "outputs": [
    {
     "data": {
      "text/plain": [
       "array([[1.        , 0.99999997, 1.        ],\n",
       "       [1.        , 1.        , 0.99999977],\n",
       "       [1.        , 1.        , 1.        ]])"
      ]
     },
     "execution_count": 75,
     "metadata": {},
     "output_type": "execute_result"
    }
   ],
   "source": [
    "np.tanh(arr1)"
   ]
  },
  {
   "cell_type": "code",
   "execution_count": 76,
   "id": "6bc5e1b5-f610-4920-9b81-b9d52b447d07",
   "metadata": {},
   "outputs": [
    {
     "data": {
      "text/plain": [
       "array([[1.07918125, 0.95424251, 1.39794001],\n",
       "       [1.39794001, 1.38021124, 0.90308999],\n",
       "       [1.25527251, 1.41497335, 1.60205999]])"
      ]
     },
     "execution_count": 76,
     "metadata": {},
     "output_type": "execute_result"
    }
   ],
   "source": [
    "np.log10(arr1)"
   ]
  },
  {
   "cell_type": "code",
   "execution_count": 77,
   "id": "76511d89-3eee-45c2-b6c8-3cfdbdfd9ba6",
   "metadata": {},
   "outputs": [
    {
     "data": {
      "text/plain": [
       "array([[1.62754791e+05, 8.10308393e+03, 7.20048993e+10],\n",
       "       [7.20048993e+10, 2.64891221e+10, 2.98095799e+03],\n",
       "       [6.56599691e+07, 1.95729609e+11, 2.35385267e+17]])"
      ]
     },
     "execution_count": 77,
     "metadata": {},
     "output_type": "execute_result"
    }
   ],
   "source": [
    "np.exp(arr1)"
   ]
  },
  {
   "cell_type": "code",
   "execution_count": 78,
   "id": "2656c28b-e726-4cc4-8168-6399d2e9d7fa",
   "metadata": {},
   "outputs": [
    {
     "data": {
      "text/plain": [
       "array([[3.46410162, 3.        , 5.        ],\n",
       "       [5.        , 4.89897949, 2.82842712],\n",
       "       [4.24264069, 5.09901951, 6.32455532]])"
      ]
     },
     "execution_count": 78,
     "metadata": {},
     "output_type": "execute_result"
    }
   ],
   "source": [
    "np.sqrt(arr1)"
   ]
  },
  {
   "cell_type": "code",
   "execution_count": 79,
   "id": "fe867c83-4f52-46c9-bea2-2b8852ea1192",
   "metadata": {},
   "outputs": [
    {
     "data": {
      "text/plain": [
       "array([[ 144,   81,  625],\n",
       "       [ 625,  576,   64],\n",
       "       [ 324,  676, 1600]], dtype=int32)"
      ]
     },
     "execution_count": 79,
     "metadata": {},
     "output_type": "execute_result"
    }
   ],
   "source": [
    "np.power(arr1,2)"
   ]
  },
  {
   "cell_type": "code",
   "execution_count": 80,
   "id": "14e31ec2-07c0-4c2c-9e4d-2826d5f978be",
   "metadata": {},
   "outputs": [
    {
     "data": {
      "text/plain": [
       "20.77777777777778"
      ]
     },
     "execution_count": 80,
     "metadata": {},
     "output_type": "execute_result"
    }
   ],
   "source": [
    "np.mean(arr1)"
   ]
  },
  {
   "cell_type": "code",
   "execution_count": 82,
   "id": "ddf16d3c-666d-4a4f-9122-d0215c7337c2",
   "metadata": {},
   "outputs": [
    {
     "data": {
      "text/plain": [
       "24.0"
      ]
     },
     "execution_count": 82,
     "metadata": {},
     "output_type": "execute_result"
    }
   ],
   "source": [
    "np.median(arr1)"
   ]
  },
  {
   "cell_type": "code",
   "execution_count": 83,
   "id": "e8b80c56-5f6c-45b7-a177-fdc0185e200d",
   "metadata": {},
   "outputs": [
    {
     "data": {
      "text/plain": [
       "9.6006687009902"
      ]
     },
     "execution_count": 83,
     "metadata": {},
     "output_type": "execute_result"
    }
   ],
   "source": [
    "np.std(arr1)"
   ]
  },
  {
   "cell_type": "code",
   "execution_count": 84,
   "id": "6cdc4dd5-d57c-4425-b749-b2d65fb6fdfd",
   "metadata": {},
   "outputs": [
    {
     "data": {
      "text/plain": [
       "92.17283950617285"
      ]
     },
     "execution_count": 84,
     "metadata": {},
     "output_type": "execute_result"
    }
   ],
   "source": [
    "np.var(arr1)"
   ]
  },
  {
   "cell_type": "code",
   "execution_count": 86,
   "id": "b736ecf0-475b-4bc4-ae8a-43a9c65ab735",
   "metadata": {},
   "outputs": [
    {
     "data": {
      "text/plain": [
       "8"
      ]
     },
     "execution_count": 86,
     "metadata": {},
     "output_type": "execute_result"
    }
   ],
   "source": [
    "np.min(arr1)"
   ]
  },
  {
   "cell_type": "code",
   "execution_count": 87,
   "id": "33052f1a-a939-4e62-8d93-51585713419a",
   "metadata": {},
   "outputs": [
    {
     "data": {
      "text/plain": [
       "40"
      ]
     },
     "execution_count": 87,
     "metadata": {},
     "output_type": "execute_result"
    }
   ],
   "source": [
    "np.max(arr1)"
   ]
  },
  {
   "cell_type": "code",
   "execution_count": null,
   "id": "a1bd8404-c8e3-4e2c-beb5-99ecc913b3c6",
   "metadata": {},
   "outputs": [],
   "source": []
  }
 ],
 "metadata": {
  "kernelspec": {
   "display_name": "Python 3 (ipykernel)",
   "language": "python",
   "name": "python3"
  },
  "language_info": {
   "codemirror_mode": {
    "name": "ipython",
    "version": 3
   },
   "file_extension": ".py",
   "mimetype": "text/x-python",
   "name": "python",
   "nbconvert_exporter": "python",
   "pygments_lexer": "ipython3",
   "version": "3.11.4"
  }
 },
 "nbformat": 4,
 "nbformat_minor": 5
}
